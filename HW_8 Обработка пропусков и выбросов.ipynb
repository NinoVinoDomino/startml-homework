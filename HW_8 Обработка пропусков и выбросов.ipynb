{
 "cells": [
  {
   "cell_type": "markdown",
   "id": "e4e011cf",
   "metadata": {},
   "source": [
    "### В данной домашней работе Вам предстоит отработать следующие 2 навыка: работа с пропущенными значениями и анализ выбросов."
   ]
  },
  {
   "cell_type": "code",
   "execution_count": 2,
   "id": "b8148e15",
   "metadata": {},
   "outputs": [],
   "source": [
    "import numpy as np\n",
    "import pandas as pd\n",
    "\n",
    "data = pd.read_csv('E:/hw8_processed_data_with_new_features.csv', index_col='id')"
   ]
  },
  {
   "cell_type": "code",
   "execution_count": 3,
   "id": "0949af1d",
   "metadata": {},
   "outputs": [
    {
     "name": "stdout",
     "output_type": "stream",
     "text": [
      "<class 'pandas.core.frame.DataFrame'>\n",
      "Index: 1458644 entries, id2875421 to id1209952\n",
      "Data columns (total 41 columns):\n",
      " #   Column              Non-Null Count    Dtype  \n",
      "---  ------              --------------    -----  \n",
      " 0   vendor_id           1458644 non-null  int64  \n",
      " 1   passenger_count     1312780 non-null  float64\n",
      " 2   store_and_fwd_flag  1458644 non-null  int64  \n",
      " 3   distance_km         1312780 non-null  float64\n",
      " 4   log_trip_duration   1458644 non-null  float64\n",
      " 5   anomaly             1458644 non-null  int64  \n",
      " 6   traffic_jam         1458644 non-null  int64  \n",
      " 7   day_of_week_1       1458644 non-null  int64  \n",
      " 8   day_of_week_2       1458644 non-null  int64  \n",
      " 9   day_of_week_3       1458644 non-null  int64  \n",
      " 10  day_of_week_4       1458644 non-null  int64  \n",
      " 11  day_of_week_5       1458644 non-null  int64  \n",
      " 12  day_of_week_6       1458644 non-null  int64  \n",
      " 13  hour_1              1458644 non-null  int64  \n",
      " 14  hour_2              1458644 non-null  int64  \n",
      " 15  hour_3              1458644 non-null  int64  \n",
      " 16  hour_4              1458644 non-null  int64  \n",
      " 17  hour_5              1458644 non-null  int64  \n",
      " 18  hour_6              1458644 non-null  int64  \n",
      " 19  hour_7              1458644 non-null  int64  \n",
      " 20  hour_8              1458644 non-null  int64  \n",
      " 21  hour_9              1458644 non-null  int64  \n",
      " 22  hour_10             1458644 non-null  int64  \n",
      " 23  hour_11             1458644 non-null  int64  \n",
      " 24  hour_12             1458644 non-null  int64  \n",
      " 25  hour_13             1458644 non-null  int64  \n",
      " 26  hour_14             1458644 non-null  int64  \n",
      " 27  hour_15             1458644 non-null  int64  \n",
      " 28  hour_16             1458644 non-null  int64  \n",
      " 29  hour_17             1458644 non-null  int64  \n",
      " 30  hour_18             1458644 non-null  int64  \n",
      " 31  hour_19             1458644 non-null  int64  \n",
      " 32  hour_20             1458644 non-null  int64  \n",
      " 33  hour_21             1458644 non-null  int64  \n",
      " 34  hour_22             1458644 non-null  int64  \n",
      " 35  hour_23             1458644 non-null  int64  \n",
      " 36  month_2             1458644 non-null  int64  \n",
      " 37  month_3             1458644 non-null  int64  \n",
      " 38  month_4             1458644 non-null  int64  \n",
      " 39  month_5             1458644 non-null  int64  \n",
      " 40  month_6             1458644 non-null  int64  \n",
      "dtypes: float64(3), int64(38)\n",
      "memory usage: 467.4+ MB\n"
     ]
    }
   ],
   "source": [
    "data.info() "
   ]
  },
  {
   "cell_type": "markdown",
   "id": "bbdabafa",
   "metadata": {},
   "source": [
    "Никудышный гном случайно пролил кофе на папку с данными и кодом. К несчастью, из-за этого они с братьями потеряли кучу информации в столбиках **passenger_count** и **distance_km**."
   ]
  },
  {
   "cell_type": "code",
   "execution_count": 4,
   "id": "6dc478b8",
   "metadata": {},
   "outputs": [
    {
     "data": {
      "text/plain": [
       "145864"
      ]
     },
     "execution_count": 4,
     "metadata": {},
     "output_type": "execute_result"
    }
   ],
   "source": [
    "### Выведите количество пропусков в данных колонках\n",
    "### На всякий случай, проверьте целостность данных в остальных\n",
    "\n",
    "### Your code is here\n",
    "data['passenger_count'].isnull().sum() #145864\n",
    "data['distance_km'].isnull().sum() #145864"
   ]
  },
  {
   "cell_type": "markdown",
   "id": "510fdca4",
   "metadata": {},
   "source": [
    "Начнем с **passenger_count**. Вообще говоря, изначально это была категориальная колонка, к которой мы применили технику OneHotEncoder. Чтобы избавиться от пропусков в данных, конечно, можно просто убрать все объекты, в которых есть пропуски, но тогда мы потеряем ценную информацию. \n",
    "\n",
    "Воспользуйтесь относительно простым приемом из лекции: в указанной колонке заполните пропуски самым *популярным* значением среди неотсутствующих."
   ]
  },
  {
   "cell_type": "code",
   "execution_count": 5,
   "id": "dc24f0b0",
   "metadata": {},
   "outputs": [
    {
     "data": {
      "text/plain": [
       "array([ 930.39975328,  930.4       , 1061.35522314, 1053.52974933,\n",
       "       1005.45833452, 1028.23627621, 1070.23217396, 1718.43333333,\n",
       "         19.66666667,  560.        ,  104.        ])"
      ]
     },
     "execution_count": 5,
     "metadata": {},
     "output_type": "execute_result"
    }
   ],
   "source": [
    "### Your code is here\n",
    "data['passenger_count'].value_counts() #930.4\n",
    "data['passenger_count'] = data['passenger_count'].fillna(930.40)\n",
    "data['passenger_count'].unique()"
   ]
  },
  {
   "cell_type": "markdown",
   "id": "47c79348",
   "metadata": {},
   "source": [
    "С колонкой **distance_km** поступим более интересным способом!\n",
    "\n",
    "Чтобы заполнить пропуск в данной колонке для того или иного объекта, можно находить наиболее похожий на него объект и подглядывать в его значение **distance_km**. Для того, чтобы понять, насколько объекты похожи друг на друга, необходимо использовать Евклидово расстояние между этими самыми объектами в пространстве всех признаков!\n",
    "\n",
    "С учетом количества объектов в нашем датасете и признаков, посчитать попарные расстояния будет мега-сложно. Поэтому давайте называть объекты похожими, если они принадлежат одной категории, составленной из следующих колонок:\n",
    "\n",
    "1. vendor_id\n",
    "2. store_and_fwd_flag\n",
    "3. traffic_jam\n",
    "4. month_2\n",
    "5. month_3\n",
    "6. month_4\n",
    "7. month_5\n",
    "8. month_6\n",
    "\n",
    "Внутри каждой группы найдите среднее значение признака **distance_km** и заполните NaN'ы в объектах с пропуском в соответствии с тем, к какой категории относится данный объект. Похожее упражнение мы делали на практике в занятии!\n",
    "\n",
    "**Hint**: достаточно просто взять group by по указанным выше категориальным колонкам и верно вставить полученный результат в исходную табличку.\n",
    "\n",
    "P.S. Колонки выбраны случайным образом. Можно было взять и другую комбинацию."
   ]
  },
  {
   "cell_type": "code",
   "execution_count": 6,
   "id": "c1034b69",
   "metadata": {},
   "outputs": [],
   "source": [
    "### Your code is here\n",
    "slot = data.groupby(['vendor_id', 'store_and_fwd_flag', 'traffic_jam', 'month_2', 'month_3', 'month_4', 'month_5', 'month_6'])['distance_km'].transform(\"mean\")\n",
    "data['distance_km'] = data['distance_km'].fillna(slot)\n"
   ]
  },
  {
   "cell_type": "code",
   "execution_count": 6,
   "id": "7876f433",
   "metadata": {},
   "outputs": [],
   "source": [
    "### Убедимся, что пропусков не осталось\n",
    "\n",
    "### Your code is here\n",
    "data.head(20).to_csv('E:/hw_8.csv', sep=';', index=False)"
   ]
  },
  {
   "cell_type": "markdown",
   "id": "58ed3949",
   "metadata": {},
   "source": [
    "### Теперь наши данные чисты! Замерьте качество модели на Кросс-Валидации"
   ]
  },
  {
   "cell_type": "code",
   "execution_count": 25,
   "id": "54d0b16c",
   "metadata": {},
   "outputs": [
    {
     "data": {
      "text/plain": [
       "0.4309"
      ]
     },
     "execution_count": 25,
     "metadata": {},
     "output_type": "execute_result"
    }
   ],
   "source": [
    "from sklearn.model_selection import KFold\n",
    "\n",
    "selector = KFold(n_splits=4, shuffle=True, random_state=33)\n",
    "\n",
    "\n",
    "from sklearn.model_selection import cross_validate\n",
    "from sklearn.linear_model import LinearRegression\n",
    "\n",
    "### Your code is here\n",
    "from sklearn.model_selection import train_test_split\n",
    "\n",
    "X = data.drop('log_trip_duration', axis=1)\n",
    "Y = data['log_trip_duration']\n",
    "\n",
    "X_train, X_test, Y_train, Y_test = train_test_split(X, Y, \n",
    "                                                    test_size=0.2, \n",
    "                                                    random_state=42)\n",
    "selector.split(X) \n",
    "\n",
    "model = LinearRegression()\n",
    "\n",
    "cross_val_error = []\n",
    "losses_train = []\n",
    "\n",
    "for train_index, test_index in selector.split(X):\n",
    "    X_train_c, X_test_c = X.values[train_index], X.values[test_index]\n",
    "    Y_train, Y_test = Y.values[train_index], Y.values[test_index]\n",
    "    model.fit(X_train_c, Y_train)\n",
    "    \n",
    "    cross_val_error.append(np.mean(((model.predict(X_test_c) - Y_test)**2)))\n",
    "    losses_train.append(np.mean(((model.predict(X_train_c) - Y_train)**2)))\n",
    "\n",
    "round(np.mean(cross_val_error ), 4)\n",
    "#print(f\"MSLE на Кросс-валидации: {round(cross_val_error, 3)}\")"
   ]
  },
  {
   "cell_type": "code",
   "execution_count": 36,
   "id": "908499c4",
   "metadata": {},
   "outputs": [
    {
     "data": {
      "text/plain": [
       "1458644"
      ]
     },
     "execution_count": 36,
     "metadata": {},
     "output_type": "execute_result"
    }
   ],
   "source": [
    "X.shape[0]"
   ]
  },
  {
   "cell_type": "markdown",
   "id": "1f80b76c",
   "metadata": {},
   "source": [
    "### Проведем анализ выбросов! Нарисуйте ящик с усами и гистограмму для таргетной переменной."
   ]
  },
  {
   "cell_type": "code",
   "execution_count": 47,
   "id": "c2f821b6",
   "metadata": {},
   "outputs": [
    {
     "data": {
      "image/png": "[encoded data removed]",
      "text/plain": [
       "<Figure size 720x1152 with 1 Axes>"
      ]
     },
     "metadata": {
      "needs_background": "light"
     },
     "output_type": "display_data"
    }
   ],
   "source": [
    "import matplotlib.pyplot as plt\n",
    "\n",
    "### Your code is here\n",
    "fig = plt.figure()\n",
    "fig.set_size_inches((10, 16))\n",
    "plt.boxplot(data['log_trip_duration'].values)\n",
    "\n",
    "plt.show()"
   ]
  },
  {
   "cell_type": "markdown",
   "id": "7ff9228e",
   "metadata": {},
   "source": [
    "Есть ли, на ваш взгляд, в данных выбросы?\n",
    "\n",
    "Кажется, что да!\n",
    "\n",
    "Давайте почистим их, удалив те объекты, таргеты которых находятся вне промежутка\n",
    "\n",
    "(топ 99,5% значение;   топ 0,5% значение)"
   ]
  },
  {
   "cell_type": "code",
   "execution_count": 16,
   "id": "a71ab214",
   "metadata": {},
   "outputs": [],
   "source": [
    "### Your code is here\n",
    "\n",
    "high = data['log_trip_duration'].quantile(0.995) #квантили это нижняя и верхняя грани коробки! не усов\n",
    "low = data['log_trip_duration'].quantile(0.05) \n",
    "\n",
    "#r = high - low\n",
    "#u_tent = high + 1.5*r\n",
    "#l_tent = low - 1.5*r"
   ]
  },
  {
   "cell_type": "code",
   "execution_count": 17,
   "id": "d071a06a",
   "metadata": {},
   "outputs": [],
   "source": [
    "data1 = data[(data['log_trip_duration'] < high)&(data['log_trip_duration'] > low)]\n",
    "\n",
    "X_1, Y_1 = data1.drop('log_trip_duration', axis=1), data1['log_trip_duration']"
   ]
  },
  {
   "cell_type": "markdown",
   "id": "47e1208e",
   "metadata": {},
   "source": [
    "Снова замерьте качество на кросс-валидации, используя старый selector"
   ]
  },
  {
   "cell_type": "code",
   "execution_count": 18,
   "id": "ab995d0b",
   "metadata": {},
   "outputs": [
    {
     "name": "stdout",
     "output_type": "stream",
     "text": [
      "MSLE (очищенные данные): 0.2513667160609415\n"
     ]
    }
   ],
   "source": [
    "from sklearn.model_selection import cross_validate\n",
    "from sklearn.model_selection import KFold\n",
    "from sklearn.linear_model import LinearRegression\n",
    "model = LinearRegression()\n",
    "selector = KFold(n_splits=4, shuffle=True, random_state=33)\n",
    "\n",
    "result_cleaned = cross_validate(model, X_1, Y_1, \n",
    "                                scoring='neg_mean_squared_error',\n",
    "                                cv=selector)\n",
    "msle_cleaned = -result_cleaned['test_score'].mean()\n",
    "\n",
    "print(\"MSLE (очищенные данные):\", msle_cleaned)\n"
   ]
  },
  {
   "cell_type": "code",
   "execution_count": null,
   "id": "0482286b",
   "metadata": {},
   "outputs": [],
   "source": []
  }
 ],
 "metadata": {
  "kernelspec": {
   "display_name": "Python 3 (ipykernel)",
   "language": "python",
   "name": "python3"
  },
  "language_info": {
   "codemirror_mode": {
    "name": "ipython",
    "version": 3
   },
   "file_extension": ".py",
   "mimetype": "text/x-python",
   "name": "python",
   "nbconvert_exporter": "python",
   "pygments_lexer": "ipython3",
   "version": "3.9.7"
  }
 },
 "nbformat": 4,
 "nbformat_minor": 5
}
