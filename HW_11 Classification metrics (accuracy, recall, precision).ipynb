{
 "cells": [
  {
   "cell_type": "markdown",
   "metadata": {},
   "source": [
    "### Метрики качества классификации.\n",
    "\n",
    "Сегодня мы научимся использовать различные метрики для оценки качества моделей.\n",
    "\n",
    "Для начала загрузим данные с предыдущей домашней задачи с небольшим `сюрпризом`. "
   ]
  },
  {
   "cell_type": "code",
   "execution_count": 7,
   "metadata": {
    "_cell_guid": "b1076dfc-b9ad-4769-8c92-a6c4dae69d19",
    "_uuid": "8f2839f25d086af736a60e9eeb907d3b93b6e0e5",
    "execution": {
     "iopub.execute_input": "2022-04-18T19:36:17.596948Z",
     "iopub.status.busy": "2022-04-18T19:36:17.596460Z",
     "iopub.status.idle": "2022-04-18T19:36:17.631863Z",
     "shell.execute_reply": "2022-04-18T19:36:17.630527Z",
     "shell.execute_reply.started": "2022-04-18T19:36:17.596825Z"
    }
   },
   "outputs": [],
   "source": [
    "import numpy as np\n",
    "import pandas as pd\n",
    "import matplotlib.pyplot as plt"
   ]
  },
  {
   "cell_type": "code",
   "execution_count": 8,
   "metadata": {
    "execution": {
     "iopub.execute_input": "2022-04-18T19:36:21.376003Z",
     "iopub.status.busy": "2022-04-18T19:36:21.375153Z",
     "iopub.status.idle": "2022-04-18T19:40:24.843185Z",
     "shell.execute_reply": "2022-04-18T19:40:24.841980Z",
     "shell.execute_reply.started": "2022-04-18T19:36:21.375950Z"
    }
   },
   "outputs": [],
   "source": [
    "data = pd.read_csv(\"E:/hw11_processed_train.csv\")"
   ]
  },
  {
   "cell_type": "code",
   "execution_count": 9,
   "metadata": {},
   "outputs": [
    {
     "data": {
      "text/html": [
       "<div>\n",
       "<style scoped>\n",
       "    .dataframe tbody tr th:only-of-type {\n",
       "        vertical-align: middle;\n",
       "    }\n",
       "\n",
       "    .dataframe tbody tr th {\n",
       "        vertical-align: top;\n",
       "    }\n",
       "\n",
       "    .dataframe thead th {\n",
       "        text-align: right;\n",
       "    }\n",
       "</style>\n",
       "<table border=\"1\" class=\"dataframe\">\n",
       "  <thead>\n",
       "    <tr style=\"text-align: right;\">\n",
       "      <th></th>\n",
       "      <th>EngineVersion</th>\n",
       "      <th>AppVersion</th>\n",
       "      <th>AvSigVersion</th>\n",
       "      <th>RtpStateBitfield</th>\n",
       "      <th>IsSxsPassiveMode</th>\n",
       "      <th>AVProductStatesIdentifier</th>\n",
       "      <th>AVProductsInstalled</th>\n",
       "      <th>AVProductsEnabled</th>\n",
       "      <th>HasTpm</th>\n",
       "      <th>CountryIdentifier</th>\n",
       "      <th>...</th>\n",
       "      <th>Platform_windows8</th>\n",
       "      <th>Processor_x64</th>\n",
       "      <th>Processor_x86</th>\n",
       "      <th>Census_DeviceFamily_Windows.Server</th>\n",
       "      <th>Census_OSArchitecture_arm64</th>\n",
       "      <th>Census_OSArchitecture_x86</th>\n",
       "      <th>Census_GenuineStateName_IS_GENUINE</th>\n",
       "      <th>Census_GenuineStateName_OFFLINE</th>\n",
       "      <th>Census_GenuineStateName_UNKNOWN</th>\n",
       "      <th>HasDetections</th>\n",
       "    </tr>\n",
       "  </thead>\n",
       "  <tbody>\n",
       "    <tr>\n",
       "      <th>0</th>\n",
       "      <td>0.552153</td>\n",
       "      <td>0.530941</td>\n",
       "      <td>0.587952</td>\n",
       "      <td>7.0</td>\n",
       "      <td>0</td>\n",
       "      <td>53447.0</td>\n",
       "      <td>1.0</td>\n",
       "      <td>1.0</td>\n",
       "      <td>1</td>\n",
       "      <td>29</td>\n",
       "      <td>...</td>\n",
       "      <td>0</td>\n",
       "      <td>1</td>\n",
       "      <td>0</td>\n",
       "      <td>0</td>\n",
       "      <td>0</td>\n",
       "      <td>0</td>\n",
       "      <td>1</td>\n",
       "      <td>0</td>\n",
       "      <td>0</td>\n",
       "      <td>0</td>\n",
       "    </tr>\n",
       "    <tr>\n",
       "      <th>1</th>\n",
       "      <td>0.448751</td>\n",
       "      <td>0.528931</td>\n",
       "      <td>0.484434</td>\n",
       "      <td>7.0</td>\n",
       "      <td>0</td>\n",
       "      <td>53447.0</td>\n",
       "      <td>1.0</td>\n",
       "      <td>1.0</td>\n",
       "      <td>1</td>\n",
       "      <td>93</td>\n",
       "      <td>...</td>\n",
       "      <td>0</td>\n",
       "      <td>1</td>\n",
       "      <td>0</td>\n",
       "      <td>0</td>\n",
       "      <td>0</td>\n",
       "      <td>0</td>\n",
       "      <td>0</td>\n",
       "      <td>1</td>\n",
       "      <td>0</td>\n",
       "      <td>0</td>\n",
       "    </tr>\n",
       "    <tr>\n",
       "      <th>2</th>\n",
       "      <td>0.552153</td>\n",
       "      <td>0.530941</td>\n",
       "      <td>0.557522</td>\n",
       "      <td>7.0</td>\n",
       "      <td>0</td>\n",
       "      <td>53447.0</td>\n",
       "      <td>1.0</td>\n",
       "      <td>1.0</td>\n",
       "      <td>1</td>\n",
       "      <td>86</td>\n",
       "      <td>...</td>\n",
       "      <td>0</td>\n",
       "      <td>1</td>\n",
       "      <td>0</td>\n",
       "      <td>0</td>\n",
       "      <td>0</td>\n",
       "      <td>0</td>\n",
       "      <td>1</td>\n",
       "      <td>0</td>\n",
       "      <td>0</td>\n",
       "      <td>0</td>\n",
       "    </tr>\n",
       "    <tr>\n",
       "      <th>3</th>\n",
       "      <td>0.552153</td>\n",
       "      <td>0.530941</td>\n",
       "      <td>0.482759</td>\n",
       "      <td>7.0</td>\n",
       "      <td>0</td>\n",
       "      <td>53447.0</td>\n",
       "      <td>1.0</td>\n",
       "      <td>1.0</td>\n",
       "      <td>1</td>\n",
       "      <td>97</td>\n",
       "      <td>...</td>\n",
       "      <td>0</td>\n",
       "      <td>1</td>\n",
       "      <td>0</td>\n",
       "      <td>0</td>\n",
       "      <td>0</td>\n",
       "      <td>0</td>\n",
       "      <td>1</td>\n",
       "      <td>0</td>\n",
       "      <td>0</td>\n",
       "      <td>0</td>\n",
       "    </tr>\n",
       "    <tr>\n",
       "      <th>4</th>\n",
       "      <td>0.493175</td>\n",
       "      <td>0.530941</td>\n",
       "      <td>0.505721</td>\n",
       "      <td>7.0</td>\n",
       "      <td>0</td>\n",
       "      <td>53447.0</td>\n",
       "      <td>1.0</td>\n",
       "      <td>1.0</td>\n",
       "      <td>1</td>\n",
       "      <td>164</td>\n",
       "      <td>...</td>\n",
       "      <td>0</td>\n",
       "      <td>1</td>\n",
       "      <td>0</td>\n",
       "      <td>0</td>\n",
       "      <td>0</td>\n",
       "      <td>0</td>\n",
       "      <td>1</td>\n",
       "      <td>0</td>\n",
       "      <td>0</td>\n",
       "      <td>0</td>\n",
       "    </tr>\n",
       "  </tbody>\n",
       "</table>\n",
       "<p>5 rows × 79 columns</p>\n",
       "</div>"
      ],
      "text/plain": [
       "   EngineVersion  AppVersion  AvSigVersion  RtpStateBitfield  \\\n",
       "0       0.552153    0.530941      0.587952               7.0   \n",
       "1       0.448751    0.528931      0.484434               7.0   \n",
       "2       0.552153    0.530941      0.557522               7.0   \n",
       "3       0.552153    0.530941      0.482759               7.0   \n",
       "4       0.493175    0.530941      0.505721               7.0   \n",
       "\n",
       "   IsSxsPassiveMode  AVProductStatesIdentifier  AVProductsInstalled  \\\n",
       "0                 0                    53447.0                  1.0   \n",
       "1                 0                    53447.0                  1.0   \n",
       "2                 0                    53447.0                  1.0   \n",
       "3                 0                    53447.0                  1.0   \n",
       "4                 0                    53447.0                  1.0   \n",
       "\n",
       "   AVProductsEnabled  HasTpm  CountryIdentifier  ...  Platform_windows8  \\\n",
       "0                1.0       1                 29  ...                  0   \n",
       "1                1.0       1                 93  ...                  0   \n",
       "2                1.0       1                 86  ...                  0   \n",
       "3                1.0       1                 97  ...                  0   \n",
       "4                1.0       1                164  ...                  0   \n",
       "\n",
       "   Processor_x64  Processor_x86  Census_DeviceFamily_Windows.Server  \\\n",
       "0              1              0                                   0   \n",
       "1              1              0                                   0   \n",
       "2              1              0                                   0   \n",
       "3              1              0                                   0   \n",
       "4              1              0                                   0   \n",
       "\n",
       "   Census_OSArchitecture_arm64  Census_OSArchitecture_x86  \\\n",
       "0                            0                          0   \n",
       "1                            0                          0   \n",
       "2                            0                          0   \n",
       "3                            0                          0   \n",
       "4                            0                          0   \n",
       "\n",
       "   Census_GenuineStateName_IS_GENUINE  Census_GenuineStateName_OFFLINE  \\\n",
       "0                                   1                                0   \n",
       "1                                   0                                1   \n",
       "2                                   1                                0   \n",
       "3                                   1                                0   \n",
       "4                                   1                                0   \n",
       "\n",
       "   Census_GenuineStateName_UNKNOWN  HasDetections  \n",
       "0                                0              0  \n",
       "1                                0              0  \n",
       "2                                0              0  \n",
       "3                                0              0  \n",
       "4                                0              0  \n",
       "\n",
       "[5 rows x 79 columns]"
      ]
     },
     "execution_count": 9,
     "metadata": {},
     "output_type": "execute_result"
    }
   ],
   "source": [
    "data.head()"
   ]
  },
  {
   "cell_type": "markdown",
   "metadata": {},
   "source": [
    "Один из гномов очень завидовал своим братьям, переплюнувшим его по `accuracy` в бонусном задании предыдущей домашней работы. Поэтому совершил следующее злодеяние: выкинул кучу объектов таким образом, чтобы баланс классов нарушился! \n",
    "\n",
    "`Может, accuracy у них станет еще больше, зато преподаватель их отругает, ведь использовать accuracy при дисбалансе не очень-то хорошо!` - подумал гном\n",
    "\n",
    "Замерьте количество объектов в порченном датафрейме.\n",
    "В какой пропорции соотносятся классы теперь?"
   ]
  },
  {
   "cell_type": "code",
   "execution_count": 10,
   "metadata": {
    "execution": {
     "iopub.execute_input": "2022-04-18T20:14:01.576406Z",
     "iopub.status.busy": "2022-04-18T20:14:01.576086Z",
     "iopub.status.idle": "2022-04-18T20:14:01.616370Z",
     "shell.execute_reply": "2022-04-18T20:14:01.614785Z",
     "shell.execute_reply.started": "2022-04-18T20:14:01.576375Z"
    }
   },
   "outputs": [
    {
     "data": {
      "text/plain": [
       "EngineVersion                         20012\n",
       "AppVersion                            20012\n",
       "AvSigVersion                          20012\n",
       "RtpStateBitfield                      20012\n",
       "IsSxsPassiveMode                      20012\n",
       "                                      ...  \n",
       "Census_OSArchitecture_x86             20012\n",
       "Census_GenuineStateName_IS_GENUINE    20012\n",
       "Census_GenuineStateName_OFFLINE       20012\n",
       "Census_GenuineStateName_UNKNOWN       20012\n",
       "HasDetections                         20012\n",
       "Length: 79, dtype: int64"
      ]
     },
     "execution_count": 10,
     "metadata": {},
     "output_type": "execute_result"
    }
   ],
   "source": [
    "### Your code is here\n",
    "data.loc[data['HasDetections'] == 0].count() #99940\n",
    "\n",
    "data.loc[data['HasDetections'] == 1].count() #20012\n"
   ]
  },
  {
   "cell_type": "markdown",
   "metadata": {},
   "source": [
    "Произведем процедуру отложенной выборки:"
   ]
  },
  {
   "cell_type": "code",
   "execution_count": 11,
   "metadata": {},
   "outputs": [],
   "source": [
    "y = data['HasDetections']\n",
    "x = data.drop('HasDetections', axis=1)\n",
    "\n",
    "from sklearn.model_selection import train_test_split\n",
    "x_train, x_test, y_train, y_test  = train_test_split(x, y, \n",
    "                                                     test_size=0.25, \n",
    "                                                     shuffle=True, \n",
    "                                                     random_state=1)"
   ]
  },
  {
   "cell_type": "markdown",
   "metadata": {},
   "source": [
    "Обучите логистическую регрессию с параметром `l2` регуляризации `C = 0.01` на порченном датасете.\n",
    "Замерьте долю верно классифицированных объектов на трейне и на тесте. Можете использовать абсолютно любые конструкции, главное не забыть пронормировать данные с помощью `StandardScaler`"
   ]
  },
  {
   "cell_type": "code",
   "execution_count": 12,
   "metadata": {
    "execution": {
     "iopub.execute_input": "2022-04-18T20:20:31.238316Z",
     "iopub.status.busy": "2022-04-18T20:20:31.238010Z",
     "iopub.status.idle": "2022-04-18T20:20:55.483158Z",
     "shell.execute_reply": "2022-04-18T20:20:55.482073Z",
     "shell.execute_reply.started": "2022-04-18T20:20:31.238283Z"
    }
   },
   "outputs": [
    {
     "data": {
      "text/plain": [
       "0.8421035080698946"
      ]
     },
     "execution_count": 12,
     "metadata": {},
     "output_type": "execute_result"
    }
   ],
   "source": [
    "### Your code is here\n",
    "\n",
    "from sklearn.pipeline import Pipeline\n",
    "from sklearn.linear_model import LogisticRegression\n",
    "from sklearn.preprocessing import StandardScaler\n",
    "\n",
    "pipe = Pipeline([('scaler', StandardScaler()),\n",
    "                 ('LR', LogisticRegression(penalty='l2', C=0.01))])\n",
    "\n",
    "pipe.fit(x_train, y_train)\n",
    "\n",
    "\n",
    "### Pipeline автоматом для классификации отображает accuracy\n",
    "\n",
    "pipe.score(x_train, y_train)\n",
    "pipe.score(x_test, y_test)\n",
    "\n",
    "\n"
   ]
  },
  {
   "cell_type": "code",
   "execution_count": 13,
   "metadata": {},
   "outputs": [
    {
     "name": "stdout",
     "output_type": "stream",
     "text": [
      "0.8411920323685029\n",
      "0.8421035080698946\n"
     ]
    }
   ],
   "source": [
    "print(pipe.score(x_train, y_train))\n",
    "print(pipe.score(x_test, y_test))"
   ]
  },
  {
   "cell_type": "markdown",
   "metadata": {},
   "source": [
    "Кажется, что, по сравнению с результатами в предыдущей домашней работе, мы построили куда более сильную модель. Но мы сильно заблуждаемся, если в это верим!"
   ]
  },
  {
   "cell_type": "markdown",
   "metadata": {},
   "source": [
    "**Задание 2.**\n",
    "Для бинарной классификации можно построить так называемую **confision matrix** (матрица ошибок), которая подсчитывает количество правильных и неправильных предсказаний и разделяет их по двум классам:\n",
    "\n",
    "|          | a(x) = -1  | a(x) = +1  |\n",
    "|----------|------------|------------|\n",
    "|  y = -1  |     TN     |     FP     |\n",
    "|  y = +1  |     FN     |     TP     |\n",
    "\n",
    "* Positive/Negative отражает то, к какому классу определила объект наша модель $a(x)$, в нашем случае нулевой класс соответствует Negative (нет вируса), а единичный класс - Positive (есть вирус).\n",
    "\n",
    "* True/False просто показывает совпало ли предсказание модели с реальным классом объекта, поэтому на главной диагонали стоят True, а на побочной False.\n",
    "\n",
    "**2.1)** Постройте вручную матрицу ошибок на тестовой выборке, используя реальные и предсказанные вашей моделью метки классов. Потом сравните результат с методом `confusion_matrix` в `sklearn`."
   ]
  },
  {
   "cell_type": "code",
   "execution_count": 14,
   "metadata": {
    "execution": {
     "iopub.execute_input": "2022-04-18T20:21:30.605778Z",
     "iopub.status.busy": "2022-04-18T20:21:30.605442Z",
     "iopub.status.idle": "2022-04-18T20:21:30.616526Z",
     "shell.execute_reply": "2022-04-18T20:21:30.615956Z",
     "shell.execute_reply.started": "2022-04-18T20:21:30.605741Z"
    }
   },
   "outputs": [
    {
     "data": {
      "text/plain": [
       "[[24726, 293], [4442, 527]]"
      ]
     },
     "execution_count": 14,
     "metadata": {},
     "output_type": "execute_result"
    }
   ],
   "source": [
    "pipe.fit(x_train, y_train)\n",
    "pred_test = pipe.predict(x_test)\n",
    "\n",
    "### Your code is here\n",
    "tn, tp, fn, fp = 0, 0, 0, 0\n",
    "for i in range(len(pred_test)):\n",
    "    if pred_test[i] == 0:\n",
    "        if pred_test[i] == y_test.values[i]:\n",
    "            tn += 1\n",
    "        else:\n",
    "            fn += 1\n",
    "    else:\n",
    "        if pred_test[i] == y_test.values[i]:\n",
    "            tp += 1\n",
    "        else:\n",
    "            fp += 1\n",
    "\n",
    "\n",
    "conf_matrix = [[tn, fp],[fn, tp]]\n",
    "conf_matrix"
   ]
  },
  {
   "cell_type": "code",
   "execution_count": 15,
   "metadata": {
    "execution": {
     "iopub.execute_input": "2022-04-18T20:21:35.011917Z",
     "iopub.status.busy": "2022-04-18T20:21:35.011578Z",
     "iopub.status.idle": "2022-04-18T20:21:35.023948Z",
     "shell.execute_reply": "2022-04-18T20:21:35.023227Z",
     "shell.execute_reply.started": "2022-04-18T20:21:35.011882Z"
    },
    "scrolled": true
   },
   "outputs": [
    {
     "name": "stdout",
     "output_type": "stream",
     "text": [
      "True Negative errors: 24726\n",
      "False Positive errors: 293\n",
      "False Negative errors: 4442\n",
      "True Positive errors: 527\n"
     ]
    }
   ],
   "source": [
    "from sklearn.metrics import confusion_matrix\n",
    "\n",
    "tn, fp, fn, tp = confusion_matrix(y_test, pipe.predict(x_test)).ravel()\n",
    "\n",
    "print(f'True Negative errors: {tn}')\n",
    "print(f'False Positive errors: {fp}')\n",
    "print(f'False Negative errors: {fn}')\n",
    "print(f'True Positive errors: {tp}')"
   ]
  },
  {
   "cell_type": "markdown",
   "metadata": {},
   "source": [
    "**2.2)** Посчитайте стандартную метрику Accuracy на тестовой выборке c помощью матрицы ошибок. Напомним, что это просто доля верно предсказанных меток:\n",
    "$\n",
    "ACC = \\dfrac{TP + TN}{TP + TN + FP + FN}\n",
    "$.\n",
    "\n",
    "(Не стоит переводить accuracy как точность, так как под точностью иногда еще понимают precision, который является совсем другим показателем! Лучше всегда использовать английские версии метрик, чтобы не возникало недопониманий. )"
   ]
  },
  {
   "cell_type": "code",
   "execution_count": 16,
   "metadata": {
    "execution": {
     "iopub.execute_input": "2022-04-18T20:21:39.346296Z",
     "iopub.status.busy": "2022-04-18T20:21:39.345406Z",
     "iopub.status.idle": "2022-04-18T20:21:39.353142Z",
     "shell.execute_reply": "2022-04-18T20:21:39.352372Z",
     "shell.execute_reply.started": "2022-04-18T20:21:39.346248Z"
    }
   },
   "outputs": [
    {
     "data": {
      "text/plain": [
       "0.8421035080698946"
      ]
     },
     "execution_count": 16,
     "metadata": {},
     "output_type": "execute_result"
    }
   ],
   "source": [
    "### Your code is here\n",
    "acc = (tp+tn)/(tp+tn+fp+fn)\n",
    "acc"
   ]
  },
  {
   "cell_type": "markdown",
   "metadata": {},
   "source": [
    "Мы ожидаем, что полученная accuracy совпадет с той, что была подсчитана во время использования функции `cross_validate`"
   ]
  },
  {
   "cell_type": "markdown",
   "metadata": {},
   "source": [
    "Мы знаем, что accuracy не является хорошим показателем качества модели при несбалансированных классах. \n",
    "\n",
    "Допустим у нас 1000 объектов, где 990 имеют метку класса 0, а остальные 10 имеют метку 1. В нашем случае, класс 0 соответствует компьютерам, на которых нет вируса, а класс 1 - на которых есть. Тогда accuracy у константной модели, которая всегда предсказывает нулевой класс будет $0.99$, хотя задача как раз состоит в том, чтобы детектировать эти самые 10 объектов, которые соответствуют зараженным компьютерам. "
   ]
  },
  {
   "cell_type": "markdown",
   "metadata": {},
   "source": [
    "При несбалансированных выборках с помощью матрицы ошибок можно посчитать следующие метрики:\n",
    "\n",
    "* **Precision** показывает \"точность\" попадания нашего классификатора в положительный класс, то есть долю правильно предсказанных положительных объектов среди всех **предсказанных** положительных объектов. \n",
    "\n",
    "* **Recall** показывает \"полноту\" предсказаний нашего классификатора, то есть долю правильно предсказанных положительных объектов среди всех **реальных** положительных объектов.\n",
    "\n",
    "**2.3)** Посчитайте Precision и Recall с помощью матрицы ошибок. Потом сравните с реализацией в sklearn. Напомним формулы из лекции:\n",
    "\n",
    "$$\n",
    "Precision = \\dfrac{TP}{TP + FP}, \\quad Recall = \\dfrac{TP}{TP + FN}\n",
    "$$"
   ]
  },
  {
   "cell_type": "code",
   "execution_count": 17,
   "metadata": {
    "execution": {
     "iopub.execute_input": "2022-04-18T20:22:01.870920Z",
     "iopub.status.busy": "2022-04-18T20:22:01.870590Z",
     "iopub.status.idle": "2022-04-18T20:22:01.896558Z",
     "shell.execute_reply": "2022-04-18T20:22:01.895618Z",
     "shell.execute_reply.started": "2022-04-18T20:22:01.870886Z"
    }
   },
   "outputs": [
    {
     "name": "stdout",
     "output_type": "stream",
     "text": [
      "0.6426829268292683 , 0.10605755685248541\n",
      "Accuracy равно: 0.842\n",
      "Precision равно: 0.643\n",
      "Recall равно: 0.106\n",
      "F-мера равно: 0.182\n"
     ]
    }
   ],
   "source": [
    "from sklearn.metrics import recall_score, precision_score\n",
    "\n",
    "### Your code is here\n",
    "\n",
    "precision_h = tp / (tp+fp)\n",
    "recall_h = tp / (tp + fn)\n",
    "\n",
    "\n",
    "print(precision_h, ',', recall_h)\n",
    "\n",
    "\n",
    "from sklearn.metrics import precision_score, recall_score, f1_score, accuracy_score\n",
    "\n",
    "\n",
    "print(f'Accuracy равно: {accuracy_score(y_test, pipe.predict(x_test)):.3f}' )\n",
    "\n",
    "print(f'Precision равно: {precision_score(y_test, pipe.predict(x_test)):.3f}' )\n",
    "\n",
    "print(f'Recall равно: {recall_score(y_test, pipe.predict(x_test)):.3f}' )\n",
    "\n",
    "print(f'F-мера равно: {f1_score(y_test, pipe.predict(x_test)):.3f}' )\n"
   ]
  },
  {
   "cell_type": "markdown",
   "metadata": {},
   "source": [
    "Теперь картина кажется не такой уж лучезарной!"
   ]
  },
  {
   "cell_type": "markdown",
   "metadata": {},
   "source": [
    "Вспомним, \n",
    "\n",
    "Метод `.predict` на самом деле берёт предсказанные вероятности для каждого класса и каждому объекту присваивает тот класс, у которого больше вероятность. \n",
    "\n",
    "Так как мы сейчас занимаемся бинарной классификацией, то большая вероятность определяется просто сравнением с порогом 0.5.\n",
    "\n",
    "**2.4)** Воспользуйтесь методом `.predict_proba` и с помощью сравнения с порогом 0.5 постройте вектор предсказаний. Проверьте результат на ранее предсказанных метках, вектора должны совпадать."
   ]
  },
  {
   "cell_type": "code",
   "execution_count": 18,
   "metadata": {
    "execution": {
     "iopub.execute_input": "2022-04-18T20:22:18.856848Z",
     "iopub.status.busy": "2022-04-18T20:22:18.856503Z",
     "iopub.status.idle": "2022-04-18T20:22:18.869936Z",
     "shell.execute_reply": "2022-04-18T20:22:18.869195Z",
     "shell.execute_reply.started": "2022-04-18T20:22:18.856814Z"
    }
   },
   "outputs": [
    {
     "ename": "NameError",
     "evalue": "name 'thresholds' is not defined",
     "output_type": "error",
     "traceback": [
      "\u001b[1;31m---------------------------------------------------------------------------\u001b[0m",
      "\u001b[1;31mNameError\u001b[0m                                 Traceback (most recent call last)",
      "\u001b[1;32mC:\\Users\\MOBILE~1\\AppData\\Local\\Temp/ipykernel_20456/1019326034.py\u001b[0m in \u001b[0;36m<module>\u001b[1;34m\u001b[0m\n\u001b[0;32m      7\u001b[0m \u001b[1;33m\u001b[0m\u001b[0m\n\u001b[0;32m      8\u001b[0m \u001b[1;31m#precision, recall, thresholds = precision_recall_curve(y_test, pipe.predict_proba(x_test)[:, 1])\u001b[0m\u001b[1;33m\u001b[0m\u001b[1;33m\u001b[0m\u001b[0m\n\u001b[1;32m----> 9\u001b[1;33m \u001b[0mthresholds\u001b[0m \u001b[1;33m=\u001b[0m \u001b[0mthresholds\u001b[0m\u001b[1;33m[\u001b[0m\u001b[0mnp\u001b[0m\u001b[1;33m.\u001b[0m\u001b[0margmax\u001b[0m\u001b[1;33m(\u001b[0m\u001b[0mf1_scores\u001b[0m\u001b[1;33m)\u001b[0m\u001b[1;33m]\u001b[0m\u001b[1;33m\u001b[0m\u001b[1;33m\u001b[0m\u001b[0m\n\u001b[0m\u001b[0;32m     10\u001b[0m \u001b[1;31m#threshold = 0.5\u001b[0m\u001b[1;33m\u001b[0m\u001b[1;33m\u001b[0m\u001b[0m\n\u001b[0;32m     11\u001b[0m \u001b[0mprecision\u001b[0m\u001b[1;33m,\u001b[0m \u001b[0mrecall\u001b[0m\u001b[1;33m,\u001b[0m \u001b[0mthresholds\u001b[0m \u001b[1;33m=\u001b[0m \u001b[0mprecision_recall_curve\u001b[0m\u001b[1;33m(\u001b[0m\u001b[0my_test\u001b[0m\u001b[1;33m,\u001b[0m \u001b[0mpipe\u001b[0m\u001b[1;33m.\u001b[0m\u001b[0mpredict_proba\u001b[0m\u001b[1;33m(\u001b[0m\u001b[0mx_test\u001b[0m\u001b[1;33m)\u001b[0m\u001b[1;33m[\u001b[0m\u001b[1;33m:\u001b[0m\u001b[1;33m,\u001b[0m \u001b[1;36m1\u001b[0m\u001b[1;33m]\u001b[0m \u001b[1;33m>\u001b[0m \u001b[0mthreshold\u001b[0m\u001b[1;33m)\u001b[0m\u001b[1;33m\u001b[0m\u001b[1;33m\u001b[0m\u001b[0m\n",
      "\u001b[1;31mNameError\u001b[0m: name 'thresholds' is not defined"
     ]
    }
   ],
   "source": [
    "### Your code is here\n",
    "\n",
    "### Найдем threshold, максимизирующий F-меру\n",
    "\n",
    "\n",
    "from sklearn.metrics import precision_recall_curve\n",
    "\n",
    "#precision, recall, thresholds = precision_recall_curve(y_test, pipe.predict_proba(x_test)[:, 1])\n",
    "thresholds = thresholds[np.argmax(f1_scores)]\n",
    "#threshold = 0.5\n",
    "precision, recall, thresholds = precision_recall_curve(y_test, pipe.predict_proba(x_test)[:, 1] > threshold)\n",
    "\n",
    "f1_scores = 2 * precision * recall / (precision + recall)\n",
    "\n",
    "\n",
    "print(\"Best F-score: \", np.max(f1_scores))\n",
    "print(\"Threshold for Best F-score: \", thresholds[np.argmax(f1_scores)])\n",
    "print(f'Precision равно: {precision[np.argmax(f1_scores)]}')\n",
    "print(f'Recall равно: {recall[np.argmax(f1_scores)]}')"
   ]
  },
  {
   "cell_type": "markdown",
   "metadata": {},
   "source": [
    "**Задание 3.**\n",
    "Решим бизнес задачу. \\\n",
    "**3.1)** Допустим, заказчик требует, чтобы наш классификатор в 60% случаев правильно предсказывал наличие вируса на компьютере, чтобы не беспокоить клиентов из-за ложноположительных результатов. \\\n",
    "Как решить эту задачу? =>\n",
    "Надо подобрать порог, который максимизирует `recall` при условии, что `precision > 0.6`.\n",
    "\n",
    "$$\n",
    "(recall | precision > 0.6) \\to \\max_{thres}\n",
    "$$"
   ]
  },
  {
   "cell_type": "code",
   "execution_count": 19,
   "metadata": {
    "execution": {
     "iopub.execute_input": "2022-04-18T21:30:53.998031Z",
     "iopub.status.busy": "2022-04-18T21:30:53.997709Z",
     "iopub.status.idle": "2022-04-18T21:30:54.007307Z",
     "shell.execute_reply": "2022-04-18T21:30:54.005784Z",
     "shell.execute_reply.started": "2022-04-18T21:30:53.997997Z"
    }
   },
   "outputs": [
    {
     "name": "stdout",
     "output_type": "stream",
     "text": [
      "Precison:\t 0.4923229321446261\n",
      "Recall: \t 0.2000402495471926\n",
      "Threshold:\t 0.33074936212532935\n"
     ]
    }
   ],
   "source": [
    "from sklearn.metrics import precision_recall_curve\n",
    "\n",
    "### Строим всевозможные комбинации precision, recall, threshold\n",
    "\n",
    "precision, recall, thres = precision_recall_curve(y_test, pipe.predict_proba(x_test)[:, 1])\n",
    "#precision, recall, thres = precision_recall_curve(y_test, pred_probs[:, 1])\n",
    "### Находим такую тройку, при которой recall максимален, а precision > 0.6\n",
    "\n",
    "ind = np.where(precision == precision[recall > 0.2].max())\n",
    "\n",
    "print(f\"Precison:\\t {precision[ind][-1]}\")\n",
    "print(f\"Recall: \\t {recall[ind][-1]}\")\n",
    "print(f\"Threshold:\\t {thres[ind][-1]}\")"
   ]
  },
  {
   "cell_type": "markdown",
   "metadata": {},
   "source": [
    "Теперь чтобы соответствовать установленным условиям, мы будем замерять вероятности для объектов и сравнивать и с найденным `Threshold`, который решает нашу задачу"
   ]
  },
  {
   "cell_type": "markdown",
   "metadata": {},
   "source": [
    "**3.2)** Аналогично решите задачу, где заказчик требует, чтобы наш классификатор находил хотя бы 20% компьютеров с вирусом, среди всех действительно зараженных компьютеров.\n",
    "$$\n",
    "(precision | recall > 0.2) \\to \\max_{thres}\n",
    "$$"
   ]
  },
  {
   "cell_type": "code",
   "execution_count": 20,
   "metadata": {
    "execution": {
     "iopub.execute_input": "2022-04-18T21:31:02.333007Z",
     "iopub.status.busy": "2022-04-18T21:31:02.331845Z",
     "iopub.status.idle": "2022-04-18T21:31:02.341309Z",
     "shell.execute_reply": "2022-04-18T21:31:02.340237Z",
     "shell.execute_reply.started": "2022-04-18T21:31:02.332952Z"
    }
   },
   "outputs": [
    {
     "name": "stdout",
     "output_type": "stream",
     "text": [
      "Precison:\t 0.4923229321446261\n",
      "Recall: \t 0.2000402495471926\n",
      "Threshold:\t 0.33074936212532935\n"
     ]
    }
   ],
   "source": [
    "### Your code is here\n",
    "\n",
    "from sklearn.metrics import precision_recall_curve\n",
    "\n",
    "### Строим всевозможные комбинации precision, recall, threshold\n",
    "\n",
    "precision, recall, thres = precision_recall_curve(y_test, pipe.predict_proba(x_test)[:, 1])\n",
    "#precision, recall, thres = precision_recall_curve(y_test, pred_probs[:, 1])\n",
    "### Находим такую тройку, при которой recall максимален, а precision > 0.6\n",
    "\n",
    "ind = np.where(precision == precision[recall > 0.2].max())\n",
    "\n",
    "print(f\"Precison:\\t {precision[ind][-1]}\")\n",
    "print(f\"Recall: \\t {recall[ind][-1]}\")\n",
    "print(f\"Threshold:\\t {thres[ind][-1]}\")\n"
   ]
  },
  {
   "cell_type": "markdown",
   "metadata": {},
   "source": [
    "**Задание 4.** На самом деле, можно объединить предыдущие две задачи и максимизировать взвешенную метрику, которая учитывает и Precision, и Recall. \\\n",
    "Посчитайте три такие метрики: среднее арифметическое, среднее геометрическое и минимум. \n",
    "1) Найдите порог, который их максимизирует. \n",
    "2) Выведите precision и recall, соответствующие этому порогу. \n",
    "3) Нарисуйте линии уровня для каждой из этих метрик, используя функцию `level_lines`. \n",
    "4) Изобразите точку $(recall, precision)$ соответствующую этому порогу на графике линий уровня.\n",
    "\n",
    "$$\n",
    "Arithm_{avg} = \\dfrac{P + R}{2}, \\quad Geom_{avg} = \\sqrt{P \\cdot R}, \\quad Min = \\min(P, R)\n",
    "$$\n"
   ]
  },
  {
   "cell_type": "code",
   "execution_count": 21,
   "metadata": {
    "execution": {
     "iopub.execute_input": "2022-04-18T21:06:41.487631Z",
     "iopub.status.busy": "2022-04-18T21:06:41.487165Z",
     "iopub.status.idle": "2022-04-18T21:06:41.497141Z",
     "shell.execute_reply": "2022-04-18T21:06:41.496096Z",
     "shell.execute_reply.started": "2022-04-18T21:06:41.487592Z"
    }
   },
   "outputs": [],
   "source": [
    "def level_lines(func, name):\n",
    "    x = np.linspace(0, 1.1, 100)\n",
    "    y = np.linspace(0, 1.1, 100)\n",
    "    \n",
    "    X, Y = np.meshgrid(x, y)\n",
    "    Z = func(X, Y)\n",
    "    \n",
    "    plt.figure(figsize=(5, 5))\n",
    "    plt.title(name)\n",
    "    plt.xlabel('Recall')\n",
    "    plt.ylabel('Precision')\n",
    "    plt.contour(X, Y, Z, 15, cmap='plasma');"
   ]
  },
  {
   "cell_type": "code",
   "execution_count": 22,
   "metadata": {
    "execution": {
     "iopub.execute_input": "2022-04-18T21:31:12.676559Z",
     "iopub.status.busy": "2022-04-18T21:31:12.675161Z",
     "iopub.status.idle": "2022-04-18T21:31:12.952717Z",
     "shell.execute_reply": "2022-04-18T21:31:12.951877Z",
     "shell.execute_reply.started": "2022-04-18T21:31:12.676468Z"
    }
   },
   "outputs": [
    {
     "name": "stdout",
     "output_type": "stream",
     "text": [
      "Precision:\t 0.16995681677976557\n",
      "Recall: \t 0.9979875226403703\n",
      "Threshold:\t 0.0219873480867255\n"
     ]
    },
    {
     "data": {
      "image/png": "[encoded data removed]",
      "text/plain": [
       "<Figure size 360x360 with 1 Axes>"
      ]
     },
     "metadata": {
      "needs_background": "light"
     },
     "output_type": "display_data"
    }
   ],
   "source": [
    "### Покажем на примере среднего арифметического, что должно у вас получиться\n",
    "\n",
    "metric_func = lambda x, y: (x + y)/2\n",
    "\n",
    "arithm_idx = (metric_func(precision, recall)).argmax()\n",
    "\n",
    "print(f\"Precision:\\t {precision[arithm_idx]}\")\n",
    "print(f\"Recall: \\t {recall[arithm_idx]}\")\n",
    "print(f\"Threshold:\\t {thres[arithm_idx]}\")\n",
    "\n",
    "level_lines(metric_func, \"Arithmetic AVG\")\n",
    "plt.plot(recall[arithm_idx], precision[arithm_idx], 'ro');"
   ]
  },
  {
   "cell_type": "code",
   "execution_count": 23,
   "metadata": {
    "execution": {
     "iopub.execute_input": "2022-04-18T21:06:44.262744Z",
     "iopub.status.busy": "2022-04-18T21:06:44.262365Z",
     "iopub.status.idle": "2022-04-18T21:06:44.552416Z",
     "shell.execute_reply": "2022-04-18T21:06:44.551195Z",
     "shell.execute_reply.started": "2022-04-18T21:06:44.262695Z"
    }
   },
   "outputs": [
    {
     "name": "stdout",
     "output_type": "stream",
     "text": [
      "Precision:\t 0.22336008856905618\n",
      "Recall: \t 0.8120346146105857\n",
      "Threshold:\t 0.12529268151812398\n"
     ]
    },
    {
     "data": {
      "image/png": "[encoded data removed]",
      "text/plain": [
       "<Figure size 360x360 with 1 Axes>"
      ]
     },
     "metadata": {
      "needs_background": "light"
     },
     "output_type": "display_data"
    }
   ],
   "source": [
    "### Повторите для среднего геометрического\n",
    "### Your code is here\n",
    "\n",
    "metric_func = lambda x, y: (x*y)**0.5\n",
    "\n",
    "geo_idx = (metric_func(precision, recall)).argmax()\n",
    "\n",
    "print(f\"Precision:\\t {precision[geo_idx]}\")\n",
    "print(f\"Recall: \\t {recall[geo_idx]}\")\n",
    "print(f\"Threshold:\\t {thres[geo_idx]}\")\n",
    "\n",
    "level_lines(metric_func, \"Geometric AVG\")\n",
    "plt.plot(recall[geo_idx], precision[geo_idx], 'ro');\n"
   ]
  },
  {
   "cell_type": "code",
   "execution_count": 28,
   "metadata": {
    "execution": {
     "iopub.execute_input": "2022-04-18T21:06:51.137490Z",
     "iopub.status.busy": "2022-04-18T21:06:51.137163Z",
     "iopub.status.idle": "2022-04-18T21:06:51.399211Z",
     "shell.execute_reply": "2022-04-18T21:06:51.398089Z",
     "shell.execute_reply.started": "2022-04-18T21:06:51.137457Z"
    }
   },
   "outputs": [
    {
     "name": "stdout",
     "output_type": "stream",
     "text": [
      "Precision:\t 0.35882471322197623\n",
      "Recall: \t 0.35882471322197623\n",
      "Threshold:\t 0.23674927111010727\n"
     ]
    },
    {
     "data": {
      "image/png": "[encoded data removed]",
      "text/plain": [
       "<Figure size 360x360 with 1 Axes>"
      ]
     },
     "metadata": {
      "needs_background": "light"
     },
     "output_type": "display_data"
    }
   ],
   "source": [
    "### Повторите для минимума\n",
    "### Your code is here\n",
    "\n",
    "\n",
    "metric_func = lambda x, y: np.minimum(x, y)\n",
    "\n",
    "min_idx = (metric_func(precision, recall)).argmax()\n",
    "\n",
    "print(f\"Precision:\\t {precision[min_idx]}\")\n",
    "print(f\"Recall: \\t {recall[min_idx]}\")\n",
    "print(f\"Threshold:\\t {thres[min_idx]}\")\n",
    "\n",
    "level_lines(metric_func, \"Min AVG\")\n",
    "plt.plot(recall[geo_idx], precision[geo_idx], 'ro');"
   ]
  },
  {
   "cell_type": "markdown",
   "metadata": {},
   "source": [
    "**Задание 5.** Одним из самых распространенных показателей качества является **F-мера**, которая обобщает все вышерассмотренные метрики. Более того, в ней можно регулировать параметр $\\beta^2$, который отвечает за предпочтение между precision и recall. \n",
    "$$\n",
    "F = \\dfrac{(1 + \\beta^2) P \\cdot R}{\\beta^2 P + R}\n",
    "$$\n",
    "* При $\\beta^2 = 1$ и precision, и recall нам важны в равной степени.\n",
    "* При $\\beta^2 > 1$ предпочтение отдается recall. Похоже на решение задачи, где мы фиксируем приемлемое для нас значение precision и максимизируем recall.\n",
    "* При $0 < \\beta^2 < 1$ предпочтение отдается precision. Похоже на решение задачи, где мы фиксируем приемлемое для нас значение recall и максимизируем precision.\n",
    "\n",
    "Найдите порог, который максимизирует:\n",
    "1) F-меру с $\\beta^2 = 1$,\n",
    "2) F-меру с $\\beta^2 = 0.05$,\n",
    "3) F-меру с $\\beta^2 = 4$.\\\n",
    "Для всех трех случаев выведите precision, recall, threshold и F-меру. \n",
    "Нарисуйте линии уровня и точку, которая максимизирует F-меру по аналогии с предыдущим пунктом."
   ]
  },
  {
   "cell_type": "code",
   "execution_count": 37,
   "metadata": {
    "execution": {
     "iopub.execute_input": "2022-04-18T21:35:08.199747Z",
     "iopub.status.busy": "2022-04-18T21:35:08.199283Z",
     "iopub.status.idle": "2022-04-18T21:35:08.483726Z",
     "shell.execute_reply": "2022-04-18T21:35:08.482715Z",
     "shell.execute_reply.started": "2022-04-18T21:35:08.199696Z"
    }
   },
   "outputs": [
    {
     "name": "stdout",
     "output_type": "stream",
     "text": [
      "Best F-score:  0.3693527828919416\n",
      "Threshold for Best F-score:  0.19234955640626844\n",
      "Precision:\t 0.2849339014530755\n",
      "Recall: \t 0.5248540953914268\n",
      "Threshold:\t 0.19234955640626844\n",
      "<function <lambda> at 0x0000021E51EF8D30>\n"
     ]
    },
    {
     "name": "stderr",
     "output_type": "stream",
     "text": [
      "C:\\Users\\MOBILE~1\\AppData\\Local\\Temp/ipykernel_20456/2684295014.py:18: RuntimeWarning: invalid value encountered in true_divide\n",
      "  metric_func = lambda x, y: 2 * x * y / (x + y)\n"
     ]
    },
    {
     "data": {
      "image/png": "[encoded data removed]",
      "text/plain": [
       "<Figure size 360x360 with 1 Axes>"
      ]
     },
     "metadata": {
      "needs_background": "light"
     },
     "output_type": "display_data"
    }
   ],
   "source": [
    "### Повторите для F-меры при \\beta^2=1\n",
    "### Выведите ее вместе с precision/recall/threshold\n",
    "### Your code is here\n",
    "\n",
    "### Найдем threshold, максимизирующий F-меру\n",
    "\n",
    "from sklearn.metrics import precision_recall_curve\n",
    "\n",
    "precision, recall, thresholds = precision_recall_curve(y_test, pipe.predict_proba(x_test)[:, 1])\n",
    "\n",
    "\n",
    "f1_scores = 2 * precision * recall / (precision + recall)\n",
    "\n",
    "\n",
    "print(\"Best F-score: \", np.max(f1_scores))\n",
    "print(\"Threshold for Best F-score: \", thresholds[np.argmax(f1_scores)])\n",
    "\n",
    "metric_func = lambda x, y: 2 * x * y / (x + y)\n",
    "\n",
    "b_idx = (metric_func(precision, recall)).argmax()\n",
    "\n",
    "print(f\"Precision:\\t {precision[b_idx]}\")\n",
    "print(f\"Recall: \\t {recall[b_idx]}\")\n",
    "print(f\"Threshold:\\t {thres[b_idx]}\")\n",
    "level_lines(metric_func, \"F AVG\")\n",
    "plt.plot(recall[geo_idx], precision[b_idx], 'ro');\n"
   ]
  },
  {
   "cell_type": "code",
   "execution_count": 47,
   "metadata": {
    "execution": {
     "iopub.execute_input": "2022-04-18T21:37:11.185314Z",
     "iopub.status.busy": "2022-04-18T21:37:11.184196Z",
     "iopub.status.idle": "2022-04-18T21:37:11.456684Z",
     "shell.execute_reply": "2022-04-18T21:37:11.455149Z",
     "shell.execute_reply.started": "2022-04-18T21:37:11.185205Z"
    }
   },
   "outputs": [
    {
     "name": "stdout",
     "output_type": "stream",
     "text": [
      "Best F-score:  0.5214295495002055\n",
      "Threshold for Best F-score:  0.497\n",
      "0.6422668240850059\n",
      "0.10947876836385591\n"
     ]
    }
   ],
   "source": [
    "### Повторите для F-меры при \\beta^2=0.05\n",
    "### Выведите ее вместе с precision/recall/threshold\n",
    "### Your code is here\n",
    "import math\n",
    "a = math.sqrt(0.05)\n",
    "\n",
    "from sklearn.metrics import precision_recall_curve\n",
    "\n",
    "\n",
    "from sklearn.metrics import precision_recall_curve\n",
    "\n",
    "precision, recall, thresholds = precision_recall_curve(y_test, pipe.predict_proba(x_test)[:, 1])\n",
    "\n",
    "\n",
    "f1_scores =  (1+a**2) * precision * recall / (a**2*precision + recall)\n",
    "\n",
    "\n",
    "print(\"Best F-score: \", np.max(f1_scores))\n",
    "print(\"Threshold for Best F-score: \", round(thresholds[np.argmax(f1_scores)], 3))\n",
    "print(precision[np.argmax(f1_scores)])\n",
    "print(recall[np.argmax(f1_scores)])"
   ]
  },
  {
   "cell_type": "code",
   "execution_count": 50,
   "metadata": {
    "execution": {
     "iopub.execute_input": "2022-04-18T21:37:22.505899Z",
     "iopub.status.busy": "2022-04-18T21:37:22.505490Z",
     "iopub.status.idle": "2022-04-18T21:37:22.779164Z",
     "shell.execute_reply": "2022-04-18T21:37:22.778007Z",
     "shell.execute_reply.started": "2022-04-18T21:37:22.505867Z"
    }
   },
   "outputs": [
    {
     "name": "stdout",
     "output_type": "stream",
     "text": [
      "Best F-score:  0.5318145721659718\n",
      "Threshold for Best F-score:  0.108\n",
      "0.21\n",
      "0.8625477963372912\n"
     ]
    },
    {
     "data": {
      "text/plain": [
       "(0.108,)"
      ]
     },
     "execution_count": 50,
     "metadata": {},
     "output_type": "execute_result"
    }
   ],
   "source": [
    "### Повторите для F-меры при \\beta^2=4\n",
    "### Выведите ее вместе с precision/recall/threshold\n",
    "### Your code is here\n",
    "\n",
    "import math\n",
    "a = math.sqrt(4)\n",
    "\n",
    "from sklearn.metrics import precision_recall_curve\n",
    "\n",
    "\n",
    "from sklearn.metrics import precision_recall_curve\n",
    "\n",
    "precision, recall, thresholds = precision_recall_curve(y_test, pipe.predict_proba(x_test)[:, 1])\n",
    "\n",
    "\n",
    "f1_scores =  (1+a**2) * precision * recall / (a**2*precision + recall)\n",
    "\n",
    "\n",
    "print(\"Best F-score: \", np.max(f1_scores))\n",
    "print(\"Threshold for Best F-score: \", round(thresholds[np.argmax(f1_scores)], 3))\n",
    "print(round(precision[np.argmax(f1_scores)], 3))\n",
    "print(recall[np.argmax(f1_scores)])\n",
    "\n",
    "\n",
    "\n",
    "\n",
    "\n"
   ]
  },
  {
   "cell_type": "code",
   "execution_count": null,
   "metadata": {},
   "outputs": [],
   "source": []
  }
 ],
 "metadata": {
  "kernelspec": {
   "display_name": "Python 3 (ipykernel)",
   "language": "python",
   "name": "python3"
  },
  "language_info": {
   "codemirror_mode": {
    "name": "ipython",
    "version": 3
   },
   "file_extension": ".py",
   "mimetype": "text/x-python",
   "name": "python",
   "nbconvert_exporter": "python",
   "pygments_lexer": "ipython3",
   "version": "3.9.7"
  }
 },
 "nbformat": 4,
 "nbformat_minor": 4
}
